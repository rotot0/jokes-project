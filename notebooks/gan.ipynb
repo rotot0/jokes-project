{
 "cells": [
  {
   "cell_type": "code",
   "execution_count": null,
   "metadata": {
    "gradient": {}
   },
   "outputs": [
    {
     "data": {
      "text/plain": [
       "device(type='cuda')"
      ]
     },
     "execution_count": 14,
     "metadata": {},
     "output_type": "execute_result"
    }
   ],
   "source": [
    "import pandas as pd\n",
    "import numpy as np\n",
    "from transformers import AutoTokenizer,  AutoModelWithLMHead, BertTokenizer, BertForSequenceClassification, get_linear_schedule_with_warmup\n",
    "from torch.nn.utils.rnn import pad_sequence\n",
    "from torch.utils.data import Dataset, DataLoader, DistributedSampler\n",
    "import torch\n",
    "import torch.nn as nn\n",
    "from tqdm import trange, tqdm\n",
    "import time\n",
    "import matplotlib.pyplot as plt\n",
    "import torch.nn.functional as F\n",
    "\n",
    "device = torch.device(\"cuda\" if torch.cuda.is_available() else \"cpu\")\n",
    "# device = torch.device('cuda')\n",
    "device"
   ]
  },
  {
   "cell_type": "code",
   "execution_count": null,
   "metadata": {
    "gradient": {}
   },
   "outputs": [],
   "source": [
    "def sample_gumbel(shape, eps=1e-20):\n",
    "    U = torch.rand(shape)\n",
    "    return -torch.log(-torch.log(U + eps) + eps)\n",
    "\n",
    "\n",
    "def gumbel_softmax_sample(logits, temperature):\n",
    "    y = logits + sample_gumbel(logits.size()).to(logits.device)\n",
    "    return torch.softmax(y / temperature, dim=-1)\n",
    "\n",
    "\n",
    "def gumbel_softmax(logits, temperature, hard=False):\n",
    "    \"\"\"\n",
    "    ST-gumple-softmax\n",
    "    input: [*, n_class]\n",
    "    return: flatten --> [*, n_class] an one-hot vector\n",
    "    \"\"\"\n",
    "    y = gumbel_softmax_sample(logits, temperature)\n",
    "    return y\n",
    "\n",
    "def gumbel_sequence_sample(model: AutoModelWithLMHead, input_ids, temperature, rep_length, enc:AutoTokenizer):\n",
    "    '''\n",
    "    Args:\n",
    "        model:\n",
    "        tenperature:\n",
    "        rep_length:\n",
    "    Returns:\n",
    "        logits: the source logits of each token [B x seq_len x vsize]\n",
    "        embeds: the representations of each token [B x  seq_len x hidden_dim]\n",
    "    '''\n",
    "    eos_id = enc.eos_token_id\n",
    "    cur_len = input_ids.size(1)\n",
    "    past = None\n",
    "    input_emb = None\n",
    "\n",
    "    sample_mask = torch.ones(input_ids.size(0), rep_length, device=input_ids.device).type_as(input_ids)\n",
    "    gumbel_weights = F.one_hot(input_ids, 50261)[0]\n",
    "    logits = F.one_hot(input_ids, 50261)[0]\n",
    "    # argmax_id = []\n",
    "    # gumbel_id = []\n",
    "\n",
    "    while cur_len < rep_length:\n",
    "        if input_emb is not None:\n",
    "            input_emb = input_emb.unsqueeze(1)\n",
    "            outputs = model(inputs_embeds=input_emb, past_key_values=past)\n",
    "        else:\n",
    "            outputs = model(input_ids, past_key_values=past)\n",
    "        next_token_logits = outputs[0][:, -1, :]\n",
    "        past = outputs[1]\n",
    "        g_weights = gumbel_softmax(next_token_logits, temperature)\n",
    "\n",
    "        # argmax_id.append(next_token_logits[0].argmax().item())\n",
    "        # gumbel_id.append(g_weights[0].argmax().item())\n",
    "\n",
    "        input_emb = torch.matmul(g_weights, model.transformer.wte.weight)\n",
    "\n",
    "        # if the input_emb is <eos>\n",
    "        eos_probs = g_weights[:,eos_id].detach()\n",
    "        not_eos = (eos_probs < 0.5).type_as(sample_mask)\n",
    "        sample_mask[:,cur_len+1:] = sample_mask[:, cur_len+1:] * not_eos.unsqueeze(-1)\n",
    "\n",
    "        gumbel_weights = torch.cat((gumbel_weights, g_weights))\n",
    "        logits = torch.cat((logits, next_token_logits))\n",
    "        cur_len += 1\n",
    "\n",
    "#     logits = torch.stack(logits, 1)\n",
    "#     gumbel_weights = torch.stack(gumbel_weights, 1)\n",
    "\n",
    "    return (logits.unsqueeze(0), gumbel_weights.unsqueeze(0), sample_mask)"
   ]
  },
  {
   "cell_type": "code",
   "execution_count": null,
   "metadata": {
    "gradient": {}
   },
   "outputs": [],
   "source": [
    "df = pd.read_csv('train2.csv')\n",
    "train_data = df[df['label'] == 1].text\n",
    "train_data = train_data.apply(lambda x: x.replace('\\n', ''))"
   ]
  },
  {
   "cell_type": "code",
   "execution_count": null,
   "metadata": {
    "gradient": {}
   },
   "outputs": [],
   "source": [
    "class Jokes(Dataset):\n",
    "\n",
    "    def __init__(self, csv_file, tokenizer):\n",
    "        data = pd.read_csv(csv_file)\n",
    "        data = data[data['label'] == 1]\n",
    "        data = data.drop(columns=['label'])\n",
    "        data['text'] = data['text'].apply(lambda x: x.replace('\\n', ''))\n",
    "        data['text'] = data['text'].apply(lambda x: x.replace(u'\\xa0', ''))\n",
    "        data = data.reset_index(drop=True)\n",
    "        self.data = data\n",
    "        self.tokenizer = tokenizer\n",
    "\n",
    "    def __len__(self):\n",
    "        return len(self.data)\n",
    "\n",
    "    def __getitem__(self, idx):\n",
    "        text = [self.tokenizer.bos_token_id] + self.tokenizer.encode(self.data.at[idx, 'text']) + [self.tokenizer.eos_token_id]\n",
    "        \n",
    "        return torch.tensor(text, dtype=torch.long)\n",
    "\n",
    "def my_collate_fn(batch):\n",
    "    return pad_sequence(batch, batch_first=True)"
   ]
  },
  {
   "cell_type": "code",
   "execution_count": null,
   "metadata": {
    "gradient": {}
   },
   "outputs": [],
   "source": [
    "# train_dataset = Jokes('train2.csv', tokenizer_bert)\n",
    "# train_sampler = DistributedSampler(train_dataset)\n",
    "# train_loader = DataLoader(train_dataset, batch_size=2, shuffle=True, collate_fn=my_collate_fn)"
   ]
  },
  {
   "cell_type": "code",
   "execution_count": null,
   "metadata": {
    "gradient": {}
   },
   "outputs": [],
   "source": [
    "# next(iter(train_loader))"
   ]
  },
  {
   "cell_type": "code",
   "execution_count": null,
   "metadata": {
    "gradient": {}
   },
   "outputs": [
    {
     "name": "stderr",
     "output_type": "stream",
     "text": [
      "Special tokens have been added in the vocabulary, make sure the associated word embedding are fine-tuned or trained.\n"
     ]
    },
    {
     "data": {
      "text/plain": [
       "3"
      ]
     },
     "execution_count": 12,
     "metadata": {},
     "output_type": "execute_result"
    }
   ],
   "source": [
    "root = ''\n",
    "last_checkpoint = root+'generation/rusmall.pt'\n",
    "tokenizer = AutoTokenizer.from_pretrained('sberbank-ai/rugpt3small_based_on_gpt2')\n",
    "# model = AutoModelWithLMHead.from_pretrained('sberbank-ai/rugpt3small_based_on_gpt2').to(device)\n",
    "model = torch.load(last_checkpoint)\n",
    "special_tokens = {'bos_token': '<bos>', 'eos_token': '<eos>', 'unk_token': '<unk>', 'pad_token': '<pad>', 'mask_token': '[MASK]'}\n",
    "tokenizer.add_special_tokens(special_tokens)\n",
    "# model.resize_token_embeddings(len(tokenizer))"
   ]
  },
  {
   "cell_type": "code",
   "execution_count": null,
   "metadata": {
    "gradient": {}
   },
   "outputs": [],
   "source": [
    "def calc_perpl(model):\n",
    "    test = pd.read_csv('test2.csv')\n",
    "    test = test[test['label'] == 1]\n",
    "    test['text'] = test['text'].apply(lambda x: x.replace('\\n', ''))\n",
    "    # test['text'] =  test['text'].apply(lambda x: '<eos>' + x + '<bos>')\n",
    "    # encodings = tokenizer('\\n\\n'.join(test['text']), return_tensors='pt')\n",
    "    loss = 0\n",
    "    for i in trange(test.shape[0]):\n",
    "        with torch.no_grad():\n",
    "            input_ids = tokenizer('<bos>'+test.iloc[i].text+'<eos>', return_tensors='pt').input_ids.to(device)\n",
    "            if input_ids.size(1) != 0:\n",
    "                outputs = model(input_ids, labels=input_ids)\n",
    "                loss += outputs.loss / test.shape[0]\n",
    "    return torch.exp(loss), loss"
   ]
  },
  {
   "cell_type": "code",
   "execution_count": null,
   "metadata": {
    "gradient": {}
   },
   "outputs": [],
   "source": [
    "import math\n",
    "\n",
    "dis_filter_sizes = [2, 3, 4, 5]\n",
    "dis_num_filters = [50, 50, 50, 50]\n",
    "\n",
    "\n",
    "class Disc(nn.Module):\n",
    "    def __init__(self, embed_dim, max_seq_len, num_rep, vocab_size, padding_idx, gpu=False, dropout=0.25):\n",
    "        super(Disc, self).__init__()\n",
    "\n",
    "        self.embed_dim = embed_dim\n",
    "        self.max_seq_len = max_seq_len\n",
    "        self.feature_dim = sum(dis_num_filters)\n",
    "        self.emb_dim_single = int(embed_dim / num_rep)\n",
    "\n",
    "        self.embeddings = nn.Linear(vocab_size, embed_dim, bias=False)\n",
    "\n",
    "        self.convs = nn.ModuleList([\n",
    "            nn.Conv2d(1, n, (f, self.emb_dim_single), stride=(1, self.emb_dim_single)) for (n, f) in\n",
    "            zip(dis_num_filters, dis_filter_sizes)\n",
    "        ])\n",
    "\n",
    "        self.highway = nn.Linear(self.feature_dim, self.feature_dim)\n",
    "        self.feature2out = nn.Linear(self.feature_dim, 100)\n",
    "        self.out2logits = nn.Linear(100, 1)\n",
    "        self.dropout = nn.Dropout(dropout)\n",
    "\n",
    "        self.init_params()\n",
    "\n",
    "    def forward(self, inp):\n",
    "        \"\"\"\n",
    "        Get logits of discriminator\n",
    "        :param inp: batch_size * seq_len * vocab_size\n",
    "        :return logits: [batch_size * num_rep] (1-D tensor)\n",
    "        \"\"\"\n",
    "        inp = inp[:, :self.max_seq_len, :]\n",
    "        emb = self.embeddings(inp).unsqueeze(1)  # batch_size * 1 * max_seq_len * embed_dim\n",
    "\n",
    "        cons = [F.relu(conv(emb)) for conv in self.convs]  # [batch_size * num_filter * (seq_len-k_h+1) * num_rep]\n",
    "        pools = [F.max_pool2d(con, (con.size(2), 1)).squeeze(2) for con in cons]  # [batch_size * num_filter * num_rep]\n",
    "        pred = torch.cat(pools, 1)\n",
    "        pred = pred.permute(0, 2, 1).contiguous().view(-1, self.feature_dim)  # (batch_size * num_rep) * feature_dim\n",
    "        highway = self.highway(pred)\n",
    "        pred = torch.sigmoid(highway) * F.relu(highway) + (1. - torch.sigmoid(highway)) * pred  # highway\n",
    "\n",
    "        pred = self.feature2out(self.dropout(pred))\n",
    "        logits = self.out2logits(pred).squeeze(1)  # [batch_size * num_rep]\n",
    "\n",
    "        return logits\n",
    "    \n",
    "    def init_params(self):\n",
    "        for param in self.parameters():\n",
    "            if param.requires_grad and len(param.shape) > 0:\n",
    "                stddev = 1 / math.sqrt(param.shape[0])\n",
    "                torch.nn.init.normal_(param, std=stddev)"
   ]
  },
  {
   "cell_type": "code",
   "execution_count": null,
   "metadata": {
    "gradient": {}
   },
   "outputs": [],
   "source": [
    "def load_checkpoint(load_path, model):\n",
    "    \n",
    "    if load_path==None:\n",
    "        return\n",
    "    \n",
    "    state_dict = torch.load(load_path, map_location=device)\n",
    "    print(f'Model loaded from <== {load_path}')\n",
    "    \n",
    "    model.load_state_dict(state_dict['model_state_dict'])\n",
    "    return state_dict['valid_loss']\n",
    "\n",
    "class BERT(nn.Module):\n",
    "\n",
    "    def __init__(self):\n",
    "        super(BERT, self).__init__()\n",
    "\n",
    "        options_name = \"rubert-base-cased\"\n",
    "        self.encoder = BertForSequenceClassification.from_pretrained('DeepPavlov/rubert-base-cased', num_labels=2)\n",
    "\n",
    "    def forward(self, input_ids, token_type_ids, attention_mask, label):\n",
    "        loss, text_fea = self.encoder(input_ids=input_ids,\n",
    "                                      token_type_ids=token_type_ids,\n",
    "                                      attention_mask=attention_mask,\n",
    "                                      labels=label)[:2]\n",
    "\n",
    "        return loss, text_fea"
   ]
  },
  {
   "cell_type": "code",
   "execution_count": null,
   "metadata": {
    "gradient": {}
   },
   "outputs": [],
   "source": [
    "def generate(input_text, model, tokenizer):\n",
    "    input_text = '<bos>' + input_text \n",
    "    input_ids = tokenizer(input_text, return_tensors=\"pt\").input_ids.to(device)\n",
    "    # input_ids = torch.tensor([[tokenizer.bos_token_id] + tokenizer.encode(input_text)]).to(device)\n",
    "    text = model.generate(\n",
    "            input_ids=input_ids,\n",
    "            repetition_penalty=5.0,\n",
    "#             top_k=5, \n",
    "#             top_p=0.92, \n",
    "            max_length=32,\n",
    "            num_beams=1,\n",
    "            no_repeat_ngram_size=8,\n",
    "            pad_token_id = tokenizer.pad_token_id,\n",
    "            bos_token_id = tokenizer.bos_token_id,\n",
    "            eos_token_id = tokenizer.eos_token_id,\n",
    "#             early_stopping=True,\n",
    "#             do_sample=True,\n",
    "#             length_penalty=0.9,\n",
    "#             num_return_sequences=5\n",
    "    )\n",
    "\n",
    "    return tokenizer.decode(text[0], skip_special_tokens=True)\n",
    "#     return [tokenizer.decode(t) for t in text]"
   ]
  },
  {
   "cell_type": "code",
   "execution_count": null,
   "metadata": {
    "gradient": {}
   },
   "outputs": [],
   "source": [
    "def to_one_hot(idx):\n",
    "    a = torch.zeros(size=(1, 50261))\n",
    "    a[0, idx]= 1\n",
    "    return a.squeeze(0)"
   ]
  },
  {
   "cell_type": "code",
   "execution_count": null,
   "metadata": {
    "gradient": {}
   },
   "outputs": [],
   "source": [
    "class Generator(nn.Module):\n",
    "    def __init__(self, gpt, tokenizer, seq_len):\n",
    "        super(Generator, self).__init__()\n",
    "        \n",
    "        self.gpt = gpt\n",
    "        self.tokenizer = tokenizer\n",
    "        self.seq_len = seq_len\n",
    "    \n",
    "    def forward(self, inp_ids):\n",
    "        output = self.gpt(input_ids=inp_ids,\n",
    "                                labels=inp_ids)\n",
    "        return output.logits\n",
    "    \n",
    "    def sample(self, start_text):\n",
    "        input_ids = self.tokenizer('<bos>'+start_text, return_tensors=\"pt\").input_ids.to(device)\n",
    "        logits, gw, _ =  gumbel_sequence_sample(self.gpt, input_ids, 0.1, self.seq_len, self.tokenizer)\n",
    "#         generated_ids = generated.sequences[0]\n",
    "#         scores = generated.scores\n",
    "#         preds = torch.zeros(size=(32, scores[0].shape[1]))\n",
    "#         preds[0] = to_one_hot(generated_ids[0])\n",
    "#         preds[1] = to_one_hot(generated_ids[1])\n",
    "#         preds[2] = to_one_hot(generated_ids[2])\n",
    "        \n",
    "#         for i in range(3, len(scores)):\n",
    "#             preds[i] =  F.softmax(add_gumbel(scores[i]), dim=-1)\n",
    "#         for i in range(len(scores) + 3, self.seq_len):\n",
    "#             preds[i] = to_one_hot(0)\n",
    "        return gw"
   ]
  },
  {
   "cell_type": "code",
   "execution_count": null,
   "metadata": {
    "gradient": {}
   },
   "outputs": [],
   "source": [
    "def gen_samples(gen, batch_size, train_data):\n",
    "    res = []\n",
    "    for _ in range(batch_size):\n",
    "        first_two_words = ' '.join(train_data.sample(1).item().split(' ')[:2])\n",
    "        fake_sample = gen.sample(first_two_words)\n",
    "        res.append(fake_sample)\n",
    "    return torch.stack(res, 1)[0]\n",
    "\n",
    "def sample_from_train(batch_size, train_data):\n",
    "    res = []\n",
    "    for _ in range(batch_size):\n",
    "        sample = '<bos>' + str(train_data.sample(1).item()) + '<eos>'\n",
    "        preds = F.one_hot(tokenizer.encode(sample, return_tensors='pt'), 50261).float()\n",
    "        pad = to_one_hot(0)\n",
    "        pad = pad.repeat(max(0, 32 - preds[0].size(0)), 1)\n",
    "        preds = torch.cat((preds[0], pad))\n",
    "        res.append(preds)\n",
    "    return torch.Tensor(preds.unsqueeze(0)).float()"
   ]
  },
  {
   "cell_type": "code",
   "execution_count": null,
   "metadata": {
    "gradient": {}
   },
   "outputs": [],
   "source": [
    "def get_losses(d_out_real, d_out_fake, loss_type='JS'):\n",
    "    bce_loss = nn.BCEWithLogitsLoss()\n",
    "\n",
    "    if loss_type == 'standard':  # the non-satuating GAN loss\n",
    "        d_loss_real = bce_loss(d_out_real, torch.ones_like(d_out_real))\n",
    "        d_loss_fake = bce_loss(d_out_fake, torch.zeros_like(d_out_fake))\n",
    "        d_loss = d_loss_real + d_loss_fake\n",
    "\n",
    "        g_loss = bce_loss(d_out_fake, torch.ones_like(d_out_fake))\n",
    "\n",
    "    elif loss_type == 'JS':  # the vanilla GAN loss\n",
    "        d_loss_real = bce_loss(d_out_real, torch.ones_like(d_out_real))\n",
    "        d_loss_fake = bce_loss(d_out_fake, torch.zeros_like(d_out_fake))\n",
    "        d_loss = d_loss_real + d_loss_fake\n",
    "\n",
    "        g_loss = -d_loss_fake\n",
    "\n",
    "    elif loss_type == 'KL':  # the GAN loss implicitly minimizing KL-divergence\n",
    "        d_loss_real = bce_loss(d_out_real, torch.ones_like(d_out_real))\n",
    "        d_loss_fake = bce_loss(d_out_fake, torch.zeros_like(d_out_fake))\n",
    "        d_loss = d_loss_real + d_loss_fake\n",
    "\n",
    "        g_loss = torch.mean(-d_out_fake)\n",
    "\n",
    "    elif loss_type == 'hinge':  # the hinge loss\n",
    "        d_loss_real = torch.mean(nn.ReLU()(1.0 - d_out_real))\n",
    "        d_loss_fake = torch.mean(nn.ReLU()(1.0 + d_out_fake))\n",
    "        d_loss = d_loss_real + d_loss_fake\n",
    "\n",
    "        g_loss = -torch.mean(d_out_fake)\n",
    "\n",
    "    elif loss_type == 'tv':  # the total variation distance\n",
    "        d_loss = torch.mean(nn.Tanh()(d_out_fake) - nn.Tanh()(d_out_real))\n",
    "        g_loss = torch.mean(-nn.Tanh()(d_out_fake))\n",
    "\n",
    "    elif loss_type == 'rsgan':  # relativistic standard GAN\n",
    "        d_loss = bce_loss(d_out_real - d_out_fake, torch.ones_like(d_out_real))\n",
    "        g_loss = bce_loss(d_out_fake - d_out_real, torch.ones_like(d_out_fake))\n",
    "\n",
    "    return g_loss, d_loss"
   ]
  },
  {
   "cell_type": "code",
   "execution_count": null,
   "metadata": {
    "gradient": {}
   },
   "outputs": [],
   "source": [
    "# Save and Load Functions\n",
    "\n",
    "def save_checkpoint(save_path, model, loss):\n",
    "\n",
    "    if save_path == None:\n",
    "        return\n",
    "    \n",
    "    state_dict = {'model_state_dict': model.state_dict(),\n",
    "                  'loss': loss}\n",
    "    \n",
    "    torch.save(state_dict, save_path)\n",
    "    print(f'Model saved to ==> {save_path}')\n",
    "\n",
    "def load_checkpoint(load_path, model):\n",
    "    \n",
    "    if load_path==None:\n",
    "        return\n",
    "    \n",
    "    state_dict = torch.load(load_path, map_location=device)\n",
    "    print(f'Model loaded from <== {load_path}')\n",
    "    \n",
    "    model.load_state_dict(state_dict['model_state_dict'])\n",
    "    return state_dict['valid_loss']"
   ]
  },
  {
   "cell_type": "code",
   "execution_count": null,
   "metadata": {
    "gradient": {}
   },
   "outputs": [],
   "source": [
    "def gen_epoch(gen, disc, g_steps, gen_optimizer, batch_size=1, loss='rsgan'):\n",
    "    total_loss = 0\n",
    "    pbar = tqdm(total=g_steps, desc='Gen Epoch', leave=True, position=0, disable=True)\n",
    "    for step in range(g_steps):\n",
    "        fake_sample = gen_samples(gen, batch_size, train_data).to(device)\n",
    "        while fake_sample.size(1) < 5:\n",
    "            fake_sample = gen_samples(gen, batch_size, train_data).to(device)\n",
    "        real_sample = sample_from_train(batch_size, train_data).to(device)\n",
    "#         fake_sample, real_sample = fake_sample.to(device), real_sample.to(device)\n",
    "        try:\n",
    "            d_out_fake = disc(fake_sample)\n",
    "        except RuntimeError:\n",
    "            print(fake_sample)\n",
    "        d_out_real = disc(real_sample)\n",
    "\n",
    "        g_loss, _ = get_losses(d_out_real, d_out_fake, loss_type=loss)\n",
    "        g_loss.requires_grad_(True)\n",
    "\n",
    "        gen.zero_grad()\n",
    "        g_loss.backward(retain_graph=True)\n",
    "        torch.nn.utils.clip_grad_norm_(gen.parameters(), 2.0)\n",
    "        gen_optimizer.step()\n",
    "        \n",
    "        total_loss += g_loss.item()\n",
    "        pbar.set_postfix({'loss': total_loss / (step + 1)})\n",
    "        pbar.update(1)\n",
    "    return total_loss / g_steps\n",
    "\n",
    "def disc_epoch(gen, disc, d_steps, disc_optimizer, batch_size=1, loss='rsgan'):\n",
    "    total_loss = 0\n",
    "    pbar = tqdm(total=d_steps, desc='Disc Epoch', leave=True, position=0, disable=True)\n",
    "    for step in range(d_steps):\n",
    "        fake_sample = gen_samples(gen, batch_size, train_data).to(device)\n",
    "        while fake_sample.size(1) < 5:\n",
    "            fake_sample = gen_samples(gen, batch_size, train_data).to(device)\n",
    "        real_sample = sample_from_train(batch_size, train_data).to(device)\n",
    "        try:\n",
    "            d_out_fake = disc(fake_sample)\n",
    "        except RuntimeError:\n",
    "            print(fake_sample.size())\n",
    "        d_out_real = disc(real_sample)\n",
    "\n",
    "        _, d_loss = get_losses(d_out_real, d_out_fake, loss_type=loss)\n",
    "\n",
    "        d_loss.requires_grad_(True)\n",
    "        disc.zero_grad()\n",
    "        d_loss.backward(retain_graph=True)\n",
    "        torch.nn.utils.clip_grad_norm_(disc.parameters(), 1.0)\n",
    "        disc_optimizer.step()\n",
    "        \n",
    "        total_loss += d_loss.item()\n",
    "        pbar.set_postfix({'loss': total_loss / (step + 1)})\n",
    "        pbar.update(1)\n",
    "    return total_loss / d_steps\n",
    "\n",
    "def train(gen, disc, g_opt, d_opt, num_epochs, batch_size=1, d_steps=10, g_steps=10, loss='rsgan'):\n",
    "    d_losses, g_losses = [], []\n",
    "    for epoch in range(num_epochs):\n",
    "#     for epoch in trange(num_epochs, position=0, leave=True, desc='Epochs'):\n",
    "        g_loss = gen_epoch(gen, disc, g_steps, g_opt, batch_size, loss)\n",
    "        d_loss = disc_epoch(gen, disc, d_steps, d_opt, batch_size, loss)\n",
    "        run['train/d_loss'].log(d_loss)\n",
    "        run['train/g_loss'].log(g_loss)\n",
    "        print(f'{epoch} ==> d_loss: {d_loss}, g_loss {g_loss}')\n",
    "        d_losses.append(d_loss)\n",
    "        g_losses.append(g_loss)\n",
    "        \n",
    "        if (epoch + 1) % 5 == 0:\n",
    "            pass\n",
    "#             save_checkpoint('gan/disc.pt', disc, d_loss)\n",
    "#             save_checkpoint('gan/gen.pt', gen, g_loss)            \n",
    "    return d_losses, g_losses"
   ]
  },
  {
   "cell_type": "code",
   "execution_count": null,
   "metadata": {
    "gradient": {}
   },
   "outputs": [
    {
     "name": "stdout",
     "output_type": "stream",
     "text": [
      "https://app.neptune.ai/rototo/jokes-gan/e/JOK1-32\n"
     ]
    }
   ],
   "source": [
    "import neptune.new as neptune\n",
    "\n",
    "run = neptune.init(project='rototo/jokes-gan',\n",
    "                   api_token='eyJhcGlfYWRkcmVzcyI6Imh0dHBzOi8vYXBwLm5lcHR1bmUuYWkiLCJhcGlfdXJsIjoiaHR0cHM6Ly9hcHAubmVwdHVuZS5haSIsImFwaV9rZXkiOiJhOTcwMzgwYi05NjE5LTQ1OTQtYWQxZC1lZTRiMDk5YzgyOGQifQ==') # your credentials\n",
    "\n",
    "lr_gen = 5e-3\n",
    "lr_disc = 3e-6\n",
    "max_len = 32\n",
    "loss = 'standard'\n",
    "g_steps = 50\n",
    "d_steps = 20\n",
    "emb_dim = 64\n",
    "\n",
    "\n",
    "run[\"parameters\"] = {\"lr_disc\": lr_disc,\n",
    "                     \"lr_gen\": lr_gen,\n",
    "                     \"optimizer_disc\": \"Adam\",\n",
    "                     \"optimizer_gan\": \"Adam\",\n",
    "                     \"g_steps\": g_steps,\n",
    "                     \"d_steps\": d_steps,\n",
    "                     \"loss_type\": loss,\n",
    "                     \"model\": 'Large',\n",
    "                     \"emb_dim\": emb_dim}"
   ]
  },
  {
   "cell_type": "code",
   "execution_count": null,
   "metadata": {
    "gradient": {}
   },
   "outputs": [],
   "source": [
    "gen = Generator(model, tokenizer, 32)\n",
    "disc = Disc(embed_dim=emb_dim, max_seq_len=max_len, num_rep=2, vocab_size=50261, padding_idx=tokenizer.pad_token_id).to(device)"
   ]
  },
  {
   "cell_type": "code",
   "execution_count": null,
   "metadata": {
    "gradient": {}
   },
   "outputs": [],
   "source": [
    "g_opt = torch.optim.Adam(gen.parameters(), lr=lr_gen)\n",
    "d_opt = torch.optim.Adam(disc.parameters(), lr=lr_disc)"
   ]
  },
  {
   "cell_type": "code",
   "execution_count": null,
   "metadata": {
    "gradient": {}
   },
   "outputs": [
    {
     "name": "stdout",
     "output_type": "stream",
     "text": [
      "0 ==> d_loss: 1.820421701669693, g_loss 1.0454530246555804\n",
      "1 ==> d_loss: 1.425194928050041, g_loss 1.0686401975154878\n",
      "2 ==> d_loss: 1.5845516830682755, g_loss 1.131675747334957\n",
      "3 ==> d_loss: 1.4503879114985465, g_loss 0.9654134243726731\n",
      "4 ==> d_loss: 1.4853263542056083, g_loss 1.082550786137581\n",
      "5 ==> d_loss: 1.2544802844524383, g_loss 1.147869002223015\n",
      "6 ==> d_loss: 1.352003127336502, g_loss 1.0334481811523437\n",
      "7 ==> d_loss: 1.4045725762844086, g_loss 0.8860478037595749\n",
      "8 ==> d_loss: 1.2730972796678544, g_loss 1.0187450236082076\n",
      "9 ==> d_loss: 1.204549704492092, g_loss 1.183820573091507\n",
      "10 ==> d_loss: 1.3802950516343118, g_loss 1.1249642988294364\n",
      "11 ==> d_loss: 1.2832469120621681, g_loss 1.0454440978169441\n",
      "12 ==> d_loss: 1.1917982250452042, g_loss 1.1038709762692451\n",
      "13 ==> d_loss: 1.053118297457695, g_loss 1.0330426754057407\n",
      "14 ==> d_loss: 1.1803920730948447, g_loss 1.0663251821696758\n",
      "15 ==> d_loss: 1.3969802737236023, g_loss 1.1272807011008263\n",
      "16 ==> d_loss: 1.043638475984335, g_loss 1.3062752568721772\n",
      "17 ==> d_loss: 1.1579961866140365, g_loss 1.1039198333024978\n",
      "18 ==> d_loss: 1.3218231245875358, g_loss 1.2844865208864211\n",
      "19 ==> d_loss: 1.1505345016717912, g_loss 1.1780180302262306\n",
      "20 ==> d_loss: 1.126417701691389, g_loss 1.2152885234355926\n",
      "21 ==> d_loss: 0.9968173921108245, g_loss 1.1921170806884767\n",
      "22 ==> d_loss: 1.1850617125630378, g_loss 1.2566909909248352\n",
      "23 ==> d_loss: 1.1280548959970473, g_loss 1.2104103469848633\n",
      "24 ==> d_loss: 1.1975594878196716, g_loss 1.0756772163510322\n",
      "25 ==> d_loss: 1.0995569735765458, g_loss 1.3040475806593894\n",
      "26 ==> d_loss: 0.8584594540297985, g_loss 1.483478733897209\n",
      "27 ==> d_loss: 0.9028175190091133, g_loss 1.4044943714141847\n",
      "28 ==> d_loss: 1.104035386443138, g_loss 1.367487781047821\n",
      "29 ==> d_loss: 0.8786713883280755, g_loss 1.4219267851114272\n",
      "30 ==> d_loss: 0.6923740342259407, g_loss 1.2534381335973739\n",
      "31 ==> d_loss: 1.018572635948658, g_loss 1.2794474101066589\n",
      "32 ==> d_loss: 0.6427121013402939, g_loss 1.4651740354299545\n",
      "33 ==> d_loss: 0.6874918282032013, g_loss 1.4970091688632965\n",
      "34 ==> d_loss: 0.9543252244591713, g_loss 1.5431303477287293\n",
      "35 ==> d_loss: 0.9805156096816063, g_loss 1.3077446687221528\n",
      "36 ==> d_loss: 0.9733637988567352, g_loss 1.573337641954422\n",
      "37 ==> d_loss: 0.9024881944060326, g_loss 1.4572326904535293\n",
      "38 ==> d_loss: 0.8683399945497513, g_loss 1.5089018380641936\n",
      "39 ==> d_loss: 0.862821201980114, g_loss 1.4810816907882691\n",
      "40 ==> d_loss: 0.7643775202333927, g_loss 1.6272122645378113\n",
      "41 ==> d_loss: 0.8677639052271843, g_loss 1.5996157020330428\n",
      "42 ==> d_loss: 0.7355791583657265, g_loss 1.5162042796611785\n",
      "43 ==> d_loss: 0.9190784454345703, g_loss 1.6815622800588608\n",
      "44 ==> d_loss: 0.8371050849556922, g_loss 1.6848668307065964\n",
      "45 ==> d_loss: 0.91503000035882, g_loss 1.6297810244560242\n",
      "46 ==> d_loss: 0.5734831422567368, g_loss 1.700490528345108\n",
      "47 ==> d_loss: 0.6378740414977073, g_loss 1.7303962355852127\n",
      "48 ==> d_loss: 0.8501687690615654, g_loss 1.6719398713111877\n",
      "49 ==> d_loss: 0.8612803146243095, g_loss 1.7226129543781281\n",
      "50 ==> d_loss: 0.61155756264925, g_loss 1.7285301393270494\n",
      "51 ==> d_loss: 0.6834354735910892, g_loss 1.7865399098396302\n",
      "52 ==> d_loss: 0.5382544118911028, g_loss 1.6907570815086366\n",
      "53 ==> d_loss: 0.6088540986180305, g_loss 1.9315266966819764\n",
      "54 ==> d_loss: 0.5889241211116314, g_loss 1.823657848238945\n",
      "55 ==> d_loss: 0.6842443324625492, g_loss 1.7108202341198921\n",
      "56 ==> d_loss: 0.6887027293443679, g_loss 1.7473224264383316\n",
      "57 ==> d_loss: 0.7392953775823117, g_loss 1.8760892209410667\n",
      "58 ==> d_loss: 0.483880328014493, g_loss 1.9283777284622192\n",
      "59 ==> d_loss: 0.5489317066967487, g_loss 1.8711826181411744\n",
      "60 ==> d_loss: 0.563499765470624, g_loss 1.7226879131793975\n",
      "61 ==> d_loss: 0.6062247168272734, g_loss 1.7085371521115302\n",
      "62 ==> d_loss: 0.5496737252920866, g_loss 1.948404690027237\n",
      "63 ==> d_loss: 0.6367602750658989, g_loss 1.9791571387648583\n",
      "64 ==> d_loss: 0.5906517885625362, g_loss 2.1221231400966643\n",
      "65 ==> d_loss: 0.6665519874542951, g_loss 1.8760431027412414\n",
      "66 ==> d_loss: 0.6001941818743944, g_loss 2.062508861422539\n",
      "67 ==> d_loss: 0.503061543777585, g_loss 2.233092700242996\n",
      "68 ==> d_loss: 0.5285349957644939, g_loss 2.0510115891695024\n",
      "69 ==> d_loss: 0.478629569709301, g_loss 2.2312063801288606\n",
      "70 ==> d_loss: 0.6169714599847793, g_loss 2.0593389695882798\n",
      "71 ==> d_loss: 0.4632575146853924, g_loss 2.183088622689247\n",
      "72 ==> d_loss: 0.46042543165385724, g_loss 2.1557956475019453\n",
      "73 ==> d_loss: 0.6941047221422195, g_loss 2.088385554552078\n",
      "74 ==> d_loss: 0.380775086581707, g_loss 2.204594215452671\n",
      "75 ==> d_loss: 0.5936159886419773, g_loss 1.9772298175096512\n",
      "76 ==> d_loss: 0.6263180676847696, g_loss 2.4400805908441545\n",
      "77 ==> d_loss: 0.5320979062467813, g_loss 2.250065838098526\n"
     ]
    }
   ],
   "source": [
    "d_loss, g_loss = train(gen, disc, g_opt, d_opt, num_epochs=200, batch_size=1,\n",
    "                       d_steps=d_steps, g_steps=g_steps, loss=loss)"
   ]
  },
  {
   "cell_type": "code",
   "execution_count": null,
   "metadata": {
    "gradient": {}
   },
   "outputs": [],
   "source": []
  },
  {
   "cell_type": "code",
   "execution_count": null,
   "metadata": {
    "gradient": {}
   },
   "outputs": [
    {
     "data": {
      "image/png": "[encoded data removed]",
      "text/plain": [
       "<Figure size 432x288 with 1 Axes>"
      ]
     },
     "metadata": {
      "needs_background": "light"
     },
     "output_type": "display_data"
    }
   ],
   "source": [
    "plt.plot(np.arange(200), d_loss, label='Disc')\n",
    "plt.plot(np.arange(200), g_loss, label='Gen')\n",
    "plt.title('StandardGAN loss')\n",
    "plt.xlabel('epoch')\n",
    "plt.ylabel('loss')\n",
    "plt.legend()\n",
    "plt.show();"
   ]
  },
  {
   "cell_type": "code",
   "execution_count": null,
   "metadata": {
    "gradient": {}
   },
   "outputs": [
    {
     "name": "stdout",
     "output_type": "stream",
     "text": [
      "g_loss  2.5618231123685837\n",
      "g_loss  2.7419997550547124\n",
      "g_loss  2.5490299391746523\n",
      "g_loss  2.67450823277235\n",
      "g_loss  2.5169640654325485\n",
      "g_loss  2.8442859017848967\n",
      "g_loss  2.571974720656872\n",
      "g_loss  2.5500968390703203\n",
      "g_loss  2.8934060518443583\n",
      "g_loss  3.030376824736595\n",
      "g_loss  2.5590519079566003\n",
      "g_loss  2.7048915794491766\n",
      "g_loss  2.6944807422161103\n",
      "g_loss  2.493582146465778\n",
      "g_loss  2.5959067395329476\n",
      "g_loss  2.8439216381311416\n",
      "g_loss  2.4861677145957946\n",
      "g_loss  2.6356028711795805\n",
      "g_loss  2.453610632568598\n",
      "g_loss  2.6929381200671196\n"
     ]
    }
   ],
   "source": [
    "for _ in range(20):\n",
    "    g_loss = gen_epoch(gen, disc, 100, g_opt, 1)\n",
    "    print('g_loss ', g_loss)"
   ]
  },
  {
   "cell_type": "code",
   "execution_count": null,
   "metadata": {
    "gradient": {}
   },
   "outputs": [
    {
     "name": "stderr",
     "output_type": "stream",
     "text": [
      "100%|██████████| 21053/21053 [07:46<00:00, 45.15it/s]\n"
     ]
    },
    {
     "data": {
      "text/plain": [
       "(tensor(inf, device='cuda:0'), tensor(104.5353, device='cuda:0'))"
      ]
     },
     "execution_count": 58,
     "metadata": {},
     "output_type": "execute_result"
    }
   ],
   "source": [
    "calc_perpl(gen.gpt)"
   ]
  },
  {
   "cell_type": "code",
   "execution_count": null,
   "metadata": {
    "gradient": {}
   },
   "outputs": [],
   "source": [
    "model3 = torch.load('generation/rularge3.pt')"
   ]
  },
  {
   "cell_type": "code",
   "execution_count": null,
   "metadata": {
    "collapsed": true,
    "gradient": {},
    "jupyter": {
     "outputs_hidden": true
    }
   },
   "outputs": [
    {
     "name": "stdout",
     "output_type": "stream",
     "text": [
      "True\n",
      "True\n",
      "True\n",
      "True\n",
      "True\n",
      "True\n",
      "True\n",
      "True\n",
      "True\n",
      "True\n",
      "True\n",
      "True\n",
      "True\n",
      "True\n",
      "True\n",
      "True\n",
      "True\n",
      "True\n",
      "True\n",
      "True\n",
      "True\n",
      "True\n",
      "True\n",
      "True\n",
      "True\n",
      "True\n",
      "True\n",
      "True\n",
      "True\n",
      "True\n",
      "True\n",
      "True\n",
      "True\n",
      "True\n",
      "True\n",
      "True\n",
      "True\n",
      "True\n",
      "True\n",
      "True\n",
      "True\n",
      "True\n",
      "True\n",
      "True\n",
      "True\n",
      "True\n",
      "True\n",
      "True\n",
      "True\n",
      "True\n",
      "True\n",
      "True\n",
      "True\n",
      "True\n",
      "True\n",
      "True\n",
      "True\n",
      "True\n",
      "True\n",
      "True\n",
      "True\n",
      "True\n",
      "True\n",
      "True\n",
      "True\n",
      "True\n",
      "True\n",
      "True\n",
      "True\n",
      "True\n",
      "True\n",
      "True\n",
      "True\n",
      "True\n",
      "True\n",
      "True\n",
      "True\n",
      "True\n",
      "True\n",
      "True\n",
      "True\n",
      "True\n",
      "True\n",
      "True\n",
      "True\n",
      "True\n",
      "True\n",
      "True\n",
      "True\n",
      "True\n",
      "True\n",
      "True\n",
      "True\n",
      "True\n",
      "True\n",
      "True\n",
      "True\n",
      "True\n",
      "True\n",
      "True\n",
      "True\n",
      "True\n",
      "True\n",
      "True\n",
      "True\n",
      "True\n",
      "True\n",
      "True\n",
      "True\n",
      "True\n",
      "True\n",
      "True\n",
      "True\n",
      "True\n",
      "True\n",
      "True\n",
      "True\n",
      "True\n",
      "True\n",
      "True\n",
      "True\n",
      "True\n",
      "True\n",
      "True\n",
      "True\n",
      "True\n",
      "True\n",
      "True\n",
      "True\n",
      "True\n",
      "True\n",
      "True\n",
      "True\n",
      "True\n",
      "True\n",
      "True\n",
      "True\n",
      "True\n",
      "True\n",
      "True\n",
      "True\n",
      "True\n",
      "True\n",
      "True\n",
      "True\n",
      "True\n",
      "True\n",
      "True\n",
      "True\n",
      "True\n",
      "True\n",
      "True\n",
      "True\n",
      "True\n",
      "True\n",
      "True\n",
      "True\n",
      "True\n",
      "True\n",
      "True\n",
      "True\n",
      "True\n",
      "True\n",
      "True\n",
      "True\n",
      "True\n",
      "True\n",
      "True\n",
      "True\n",
      "True\n",
      "True\n",
      "True\n",
      "True\n",
      "True\n",
      "True\n",
      "True\n",
      "True\n",
      "True\n",
      "True\n",
      "True\n",
      "True\n",
      "True\n",
      "True\n",
      "True\n",
      "True\n",
      "True\n",
      "True\n",
      "True\n",
      "True\n",
      "True\n",
      "True\n",
      "True\n",
      "True\n",
      "True\n",
      "True\n",
      "True\n",
      "True\n",
      "True\n",
      "True\n",
      "True\n",
      "True\n",
      "True\n",
      "True\n",
      "True\n",
      "True\n",
      "True\n",
      "True\n",
      "True\n",
      "True\n",
      "True\n",
      "True\n",
      "True\n",
      "True\n",
      "True\n",
      "True\n",
      "True\n",
      "True\n",
      "True\n",
      "True\n",
      "True\n",
      "True\n",
      "True\n",
      "True\n",
      "True\n",
      "True\n",
      "True\n",
      "True\n",
      "True\n",
      "True\n",
      "True\n",
      "True\n",
      "True\n",
      "True\n",
      "True\n",
      "True\n",
      "True\n",
      "True\n",
      "True\n",
      "True\n",
      "True\n",
      "True\n",
      "True\n",
      "True\n",
      "True\n",
      "True\n",
      "True\n",
      "True\n",
      "True\n",
      "True\n",
      "True\n",
      "True\n",
      "True\n",
      "True\n",
      "True\n",
      "True\n",
      "True\n",
      "True\n",
      "True\n",
      "True\n",
      "True\n",
      "True\n",
      "True\n",
      "True\n",
      "True\n",
      "True\n",
      "True\n",
      "True\n",
      "True\n",
      "True\n",
      "True\n",
      "True\n",
      "True\n",
      "True\n",
      "True\n",
      "True\n",
      "True\n",
      "True\n",
      "True\n",
      "True\n",
      "True\n",
      "True\n",
      "True\n",
      "True\n",
      "True\n",
      "True\n",
      "True\n",
      "True\n",
      "True\n",
      "True\n",
      "True\n",
      "True\n",
      "True\n"
     ]
    }
   ],
   "source": [
    "for param in gen.gpt.parameters():\n",
    "    print(param.requires_grad)"
   ]
  },
  {
   "cell_type": "code",
   "execution_count": null,
   "metadata": {
    "gradient": {}
   },
   "outputs": [
    {
     "name": "stdout",
     "output_type": "stream",
     "text": [
      "tensor([[-0.0233,  0.0459, -0.0190,  ...,  0.0442, -0.0333, -0.0033],\n",
      "        [-0.0631, -0.0645,  0.1472,  ...,  0.0273,  0.1054, -0.0349],\n",
      "        [-0.0100,  0.0716, -0.0345,  ..., -0.0239, -0.0750, -0.0330],\n",
      "        ...,\n",
      "        [ 0.0070, -0.0090, -0.0237,  ...,  0.0675,  0.0057, -0.0070],\n",
      "        [-0.0172, -0.0506, -0.0135,  ...,  0.0241,  0.0113,  0.0110],\n",
      "        [ 0.0061,  0.0012,  0.0101,  ...,  0.0263,  0.0305, -0.0131]],\n",
      "       device='cuda:0')\n"
     ]
    }
   ],
   "source": [
    "for param in gen.gpt.parameters():\n",
    "    print(param.data)\n",
    "    break"
   ]
  },
  {
   "cell_type": "code",
   "execution_count": null,
   "metadata": {
    "gradient": {}
   },
   "outputs": [
    {
     "data": {
      "text/plain": [
       "'Женщина отличается от мужчины тем, что она не знает, как себя вести.'"
      ]
     },
     "execution_count": 73,
     "metadata": {},
     "output_type": "execute_result"
    }
   ],
   "source": [
    "generate('Женщина отличается', gen.gpt, tokenizer)"
   ]
  },
  {
   "cell_type": "code",
   "execution_count": null,
   "metadata": {
    "gradient": {}
   },
   "outputs": [
    {
     "data": {
      "text/plain": [
       "<function matplotlib.pyplot.show(close=None, block=None)>"
      ]
     },
     "execution_count": 62,
     "metadata": {},
     "output_type": "execute_result"
    },
    {
     "data": {
      "image/png": "[encoded data removed]",
      "text/plain": [
       "<Figure size 432x288 with 1 Axes>"
      ]
     },
     "metadata": {
      "needs_background": "light"
     },
     "output_type": "display_data"
    }
   ],
   "source": [
    "plt.plot(np.arange(100), g_loss)\n",
    "plt.title('StandardGAN Generator loss')\n",
    "plt.xlabel('epoch')\n",
    "plt.ylabel('loss')\n",
    "plt.show"
   ]
  },
  {
   "cell_type": "code",
   "execution_count": null,
   "metadata": {
    "gradient": {}
   },
   "outputs": [
    {
     "data": {
      "text/plain": [
       "<function matplotlib.pyplot.show(close=None, block=None)>"
      ]
     },
     "execution_count": 54,
     "metadata": {},
     "output_type": "execute_result"
    },
    {
     "data": {
      "image/png": "[encoded data removed]",
      "text/plain": [
       "<Figure size 432x288 with 1 Axes>"
      ]
     },
     "metadata": {
      "needs_background": "light"
     },
     "output_type": "display_data"
    }
   ],
   "source": [
    "plt.plot(np.arange(100), d_loss)\n",
    "plt.title('RSGAN Discriminator loss')\n",
    "plt.xlabel('epoch')\n",
    "plt.ylabel('loss')\n",
    "plt.show"
   ]
  },
  {
   "cell_type": "code",
   "execution_count": null,
   "metadata": {
    "gradient": {}
   },
   "outputs": [
    {
     "data": {
      "text/plain": [
       "<function matplotlib.pyplot.show(close=None, block=None)>"
      ]
     },
     "execution_count": 55,
     "metadata": {},
     "output_type": "execute_result"
    },
    {
     "data": {
      "image/png": "[encoded data removed]",
      "text/plain": [
       "<Figure size 432x288 with 1 Axes>"
      ]
     },
     "metadata": {
      "needs_background": "light"
     },
     "output_type": "display_data"
    }
   ],
   "source": [
    "plt.plot(np.arange(100), g_loss)\n",
    "plt.title('RSGAN Generator loss')\n",
    "plt.xlabel('epoch')\n",
    "plt.ylabel('loss')\n",
    "plt.show"
   ]
  },
  {
   "cell_type": "code",
   "execution_count": null,
   "metadata": {
    "gradient": {}
   },
   "outputs": [
    {
     "data": {
      "text/plain": [
       "tensor([415.1200], device='cuda:0', grad_fn=<SqueezeBackward1>)"
      ]
     },
     "execution_count": 404,
     "metadata": {},
     "output_type": "execute_result"
    }
   ],
   "source": [
    "a = disc(gen_samples(gen, 1, train_data).cuda())\n",
    "a"
   ]
  },
  {
   "cell_type": "code",
   "execution_count": null,
   "metadata": {
    "gradient": {}
   },
   "outputs": [
    {
     "data": {
      "text/plain": [
       "tensor([1570.0780], device='cuda:0', grad_fn=<SqueezeBackward1>)"
      ]
     },
     "execution_count": 405,
     "metadata": {},
     "output_type": "execute_result"
    }
   ],
   "source": [
    "b = disc(sample_from_train(1, train_data).cuda())\n",
    "b"
   ]
  },
  {
   "cell_type": "code",
   "execution_count": null,
   "metadata": {
    "gradient": {}
   },
   "outputs": [
    {
     "data": {
      "text/plain": [
       "(tensor(1154.9580, device='cuda:0',\n",
       "        grad_fn=<BinaryCrossEntropyWithLogitsBackward>),\n",
       " tensor(0., device='cuda:0', grad_fn=<BinaryCrossEntropyWithLogitsBackward>))"
      ]
     },
     "execution_count": 407,
     "metadata": {},
     "output_type": "execute_result"
    }
   ],
   "source": [
    "get_losses(b,a, 'rsgan')"
   ]
  },
  {
   "cell_type": "code",
   "execution_count": null,
   "metadata": {
    "gradient": {}
   },
   "outputs": [
    {
     "data": {
      "text/plain": [
       "tensor([[[8.9392e-11, 2.0842e-10, 3.8129e-10,  ..., 5.8695e-23,\n",
       "          7.8576e-10, 2.4181e-10],\n",
       "         [4.5896e-10, 1.2700e-09, 2.2628e-10,  ..., 8.4653e-15,\n",
       "          3.0821e-09, 2.1738e-10],\n",
       "         [2.2369e-11, 1.3934e-10, 5.7976e-10,  ..., 6.0297e-20,\n",
       "          9.8579e-11, 1.8312e-10],\n",
       "         ...,\n",
       "         [7.4285e-11, 8.4282e-10, 3.0195e-11,  ..., 5.2031e-16,\n",
       "          7.8374e-11, 9.8340e-11],\n",
       "         [1.2672e-09, 2.2682e-08, 3.5560e-09,  ..., 6.8497e-16,\n",
       "          2.4035e-09, 5.5846e-10],\n",
       "         [1.0859e-05, 1.2594e-05, 7.9321e-07,  ..., 8.1047e-08,\n",
       "          9.7532e-01, 1.4245e-07]]])"
      ]
     },
     "execution_count": 374,
     "metadata": {},
     "output_type": "execute_result"
    }
   ],
   "source": [
    "gen_samples(gen, 1, train_data)"
   ]
  },
  {
   "cell_type": "code",
   "execution_count": null,
   "metadata": {
    "gradient": {}
   },
   "outputs": [],
   "source": []
  }
 ],
 "metadata": {
  "kernelspec": {
   "display_name": "Python 3",
   "language": "python",
   "name": "python3"
  },
  "language_info": {
   "codemirror_mode": {
    "name": "ipython",
    "version": 3
   },
   "file_extension": ".py",
   "mimetype": "text/x-python",
   "name": "python",
   "nbconvert_exporter": "python",
   "pygments_lexer": "ipython3",
   "version": "3.6.9"
  }
 },
 "nbformat": 4,
 "nbformat_minor": 4
}
